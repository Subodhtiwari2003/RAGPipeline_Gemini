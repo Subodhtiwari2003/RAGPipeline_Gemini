{
 "cells": [
  {
   "cell_type": "code",
   "execution_count": 1,
   "id": "38cbc2e2",
   "metadata": {},
   "outputs": [
    {
     "name": "stderr",
     "output_type": "stream",
     "text": [
      "USER_AGENT environment variable not set, consider setting it to identify your requests.\n"
     ]
    }
   ],
   "source": [
    "from langchain.document_loaders import WebBaseLoader\n",
    "\n",
    "# List of URLs for stock data\n",
    "urls = [\n",
    "    \"https://finance.yahoo.com/quote/AAPL\",  # Yahoo Finance - Apple\n",
    "    \"https://www.investing.com/equities/apple-computer-inc\",  # Investing.com - Apple\n",
    "    \"https://www.moneycontrol.com/india/stockpricequote/technology/infosys/IT\"  # Moneycontrol - Infosys\n",
    "]\n",
    "\n",
    "# Load documents from all URLs\n",
    "loader = WebBaseLoader(urls)\n",
    "docs = loader.load()\n"
   ]
  },
  {
   "cell_type": "code",
   "execution_count": 2,
   "id": "2ee46d3a",
   "metadata": {},
   "outputs": [],
   "source": [
    "from langchain_community.vectorstores import Chroma\n",
    "from langchain.embeddings import HuggingFaceEmbeddings\n",
    "from langchain.chains import RetrievalQA\n",
    "from langchain.llms import HuggingFaceHub\n",
    "from langchain.document_loaders import TextLoader\n",
    "from langchain.text_splitter import CharacterTextSplitter\n",
    "from langchain import LLMChain, PromptTemplate\n",
    "import os\n",
    "import tempfile\n",
    "import shutil\n",
    "import sys"
   ]
  }
 ],
 "metadata": {
  "kernelspec": {
   "display_name": "rag_env",
   "language": "python",
   "name": "python3"
  },
  "language_info": {
   "codemirror_mode": {
    "name": "ipython",
    "version": 3
   },
   "file_extension": ".py",
   "mimetype": "text/x-python",
   "name": "python",
   "nbconvert_exporter": "python",
   "pygments_lexer": "ipython3",
   "version": "3.11.13"
  }
 },
 "nbformat": 4,
 "nbformat_minor": 5
}
